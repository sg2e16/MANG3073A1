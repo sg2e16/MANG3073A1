{
  "nbformat": 4,
  "nbformat_minor": 0,
  "metadata": {
    "colab": {
      "name": "MANG 3073 A1",
      "version": "0.3.2",
      "provenance": [],
      "private_outputs": true,
      "collapsed_sections": [],
      "include_colab_link": true
    },
    "kernelspec": {
      "name": "python3",
      "display_name": "Python 3"
    },
    "accelerator": "GPU"
  },
  "cells": [
    {
      "cell_type": "markdown",
      "metadata": {
        "id": "view-in-github",
        "colab_type": "text"
      },
      "source": [
        "<a href=\"https://colab.research.google.com/github/sg2e16/MANG3073A1/blob/master/MANG_3073_A1.ipynb\" target=\"_parent\"><img src=\"https://colab.research.google.com/assets/colab-badge.svg\" alt=\"Open In Colab\"/></a>"
      ]
    },
    {
      "metadata": {
        "id": "BfU24LsrEXvP",
        "colab_type": "code",
        "colab": {}
      },
      "cell_type": "code",
      "source": [
        "##Removing the sample_data from the colaboratory files library\n",
        "!rm -rf 'sample_data'"
      ],
      "execution_count": 0,
      "outputs": []
    },
    {
      "metadata": {
        "id": "DXukTO5RdwXi",
        "colab_type": "text"
      },
      "cell_type": "markdown",
      "source": [
        "Importing:"
      ]
    },
    {
      "metadata": {
        "id": "NU9oPlsrDTHt",
        "colab_type": "code",
        "colab": {}
      },
      "cell_type": "code",
      "source": [
        "##Importing the Data\n",
        "from google.colab import drive\n",
        "drive.mount('/content/gdrive')"
      ],
      "execution_count": 0,
      "outputs": []
    },
    {
      "metadata": {
        "id": "r2ARQw4LEs5l",
        "colab_type": "code",
        "colab": {}
      },
      "cell_type": "code",
      "source": [
        "##Importing pandas and assigning\n",
        "import pandas as pd\n",
        "msfd = pd.read_csv(\"/content/gdrive/My Drive/MANG3073/MicroSynFinal.csv\")"
      ],
      "execution_count": 0,
      "outputs": []
    },
    {
      "metadata": {
        "id": "wV7w3RpDadhJ",
        "colab_type": "text"
      },
      "cell_type": "markdown",
      "source": [
        "Question 1.1:"
      ]
    },
    {
      "metadata": {
        "id": "9Q9ip3QhxqeE",
        "colab_type": "text"
      },
      "cell_type": "markdown",
      "source": [
        "Exploratory Data Analysis:"
      ]
    },
    {
      "metadata": {
        "id": "vDIv6oxWaiTR",
        "colab_type": "code",
        "colab": {}
      },
      "cell_type": "code",
      "source": [
        "##Checking the imported Dataset\n",
        "msfd.head(5)"
      ],
      "execution_count": 0,
      "outputs": []
    },
    {
      "metadata": {
        "id": "zALeGQBSemNp",
        "colab_type": "code",
        "colab": {}
      },
      "cell_type": "code",
      "source": [
        "##Total number of Rows and Coloumns\n",
        "msfd.shape"
      ],
      "execution_count": 0,
      "outputs": []
    },
    {
      "metadata": {
        "id": "POSsmpRgDBZz",
        "colab_type": "code",
        "colab": {}
      },
      "cell_type": "code",
      "source": [
        "msfd['Defaulter'].value_counts()"
      ],
      "execution_count": 0,
      "outputs": []
    },
    {
      "metadata": {
        "id": "IAELQDixDNPP",
        "colab_type": "code",
        "colab": {}
      },
      "cell_type": "code",
      "source": [
        "##Original Number of Defaulters (For use in Question 2)\n",
        "ONofD = 8219\n",
        "print(ONofD)"
      ],
      "execution_count": 0,
      "outputs": []
    },
    {
      "metadata": {
        "id": "fpuApkY5D6Jd",
        "colab_type": "code",
        "colab": {}
      },
      "cell_type": "code",
      "source": [
        "##Original Total of Applications (For use in Question 2)\n",
        "OTofA = 50000\n",
        "print(OTofA)"
      ],
      "execution_count": 0,
      "outputs": []
    },
    {
      "metadata": {
        "id": "4URhPmQkx-u1",
        "colab_type": "code",
        "colab": {}
      },
      "cell_type": "code",
      "source": [
        "##Looking at the data types\n",
        "msfd.dtypes"
      ],
      "execution_count": 0,
      "outputs": []
    },
    {
      "metadata": {
        "id": "U8FsAG9kGhXX",
        "colab_type": "code",
        "colab": {}
      },
      "cell_type": "code",
      "source": [
        "##Describing the Raw Data\n",
        "msfd.describe()"
      ],
      "execution_count": 0,
      "outputs": []
    },
    {
      "metadata": {
        "id": "2K_kTLJfeCzS",
        "colab_type": "text"
      },
      "cell_type": "markdown",
      "source": [
        "Null Values identifacation and cleaning:"
      ]
    },
    {
      "metadata": {
        "id": "x3RYQW7JE97X",
        "colab_type": "code",
        "colab": {}
      },
      "cell_type": "code",
      "source": [
        "##Getting variable types and null values\n",
        "msfd.info()"
      ],
      "execution_count": 0,
      "outputs": []
    },
    {
      "metadata": {
        "id": "j8K8lxQxFFKq",
        "colab_type": "code",
        "colab": {}
      },
      "cell_type": "code",
      "source": [
        "##Locating Null values\n",
        "msfd.isnull()"
      ],
      "execution_count": 0,
      "outputs": []
    },
    {
      "metadata": {
        "id": "napKYMWZJY6s",
        "colab_type": "code",
        "colab": {}
      },
      "cell_type": "code",
      "source": [
        "##Total number of Null Values and where they are located in the headers\n",
        "msfd.isnull().sum()"
      ],
      "execution_count": 0,
      "outputs": []
    },
    {
      "metadata": {
        "id": "c3__F5LbMB00",
        "colab_type": "code",
        "colab": {}
      },
      "cell_type": "code",
      "source": [
        "##The null values are set to \"1\" or the mean value\n",
        "msfd.fillna(value= {'Activity':1, 'Current_Loans':1,}, inplace = True)\n",
        "msfd['Collateral_valuation'].fillna((msfd['Collateral_valuation'].mean()), inplace=True)"
      ],
      "execution_count": 0,
      "outputs": []
    },
    {
      "metadata": {
        "id": "jy2kL1fCQoUj",
        "colab_type": "code",
        "colab": {}
      },
      "cell_type": "code",
      "source": [
        "##Checking that there are no remaining null values\n",
        "msfd.isnull().sum()"
      ],
      "execution_count": 0,
      "outputs": []
    },
    {
      "metadata": {
        "id": "qYRkkUG9RtYj",
        "colab_type": "code",
        "colab": {}
      },
      "cell_type": "code",
      "source": [
        "##Describing the Data post null values\n",
        "msfd.describe()"
      ],
      "execution_count": 0,
      "outputs": []
    },
    {
      "metadata": {
        "id": "wnAzB1Naeeyj",
        "colab_type": "text"
      },
      "cell_type": "markdown",
      "source": [
        "Identifying Outliers:"
      ]
    },
    {
      "metadata": {
        "id": "zvLoljngR04U",
        "colab_type": "code",
        "colab": {}
      },
      "cell_type": "code",
      "source": [
        "##Importing required packages for the graphical needs\n",
        "import seaborn as sns\n",
        "import numpy as np\n",
        "import matplotlib.pyplot as plt\n",
        "%matplotlib inline"
      ],
      "execution_count": 0,
      "outputs": []
    },
    {
      "metadata": {
        "id": "VGdjdXB9ya2I",
        "colab_type": "code",
        "colab": {}
      },
      "cell_type": "code",
      "source": [
        "##Creates pair plots for finding outliers\n",
        "sns.pairplot(msfd.iloc[:,1:-1])"
      ],
      "execution_count": 0,
      "outputs": []
    },
    {
      "metadata": {
        "id": "X3aShMnoT9bQ",
        "colab_type": "code",
        "colab": {}
      },
      "cell_type": "code",
      "source": [
        "##Initial Box Plot\n",
        "box = msfd.iloc[:,1:-1].boxplot(grid=False, rot=45, fontsize=13)"
      ],
      "execution_count": 0,
      "outputs": []
    },
    {
      "metadata": {
        "id": "g99EvyUWWjwZ",
        "colab_type": "code",
        "colab": {}
      },
      "cell_type": "code",
      "source": [
        "##Finding Outliers Cut = 30000\n",
        "sns.distplot(msfd['Collateral_valuation'])"
      ],
      "execution_count": 0,
      "outputs": []
    },
    {
      "metadata": {
        "id": "9Boy4F-bWkq8",
        "colab_type": "code",
        "colab": {}
      },
      "cell_type": "code",
      "source": [
        "##Finding Outliers Cut = 8\n",
        "sns.distplot(msfd['Properties_Total'])"
      ],
      "execution_count": 0,
      "outputs": []
    },
    {
      "metadata": {
        "id": "Izl9FcleWGEE",
        "colab_type": "code",
        "colab": {}
      },
      "cell_type": "code",
      "source": [
        "##Finding Outliers Cut = 50000\n",
        "sns.distplot(msfd['Amount'])"
      ],
      "execution_count": 0,
      "outputs": []
    },
    {
      "metadata": {
        "id": "d3W0YlkLWlGA",
        "colab_type": "code",
        "colab": {}
      },
      "cell_type": "code",
      "source": [
        "##Finding Outliers Cut = 20\n",
        "sns.distplot(msfd['Historic_Loans'])"
      ],
      "execution_count": 0,
      "outputs": []
    },
    {
      "metadata": {
        "id": "s3cNwkmQXVBi",
        "colab_type": "code",
        "colab": {}
      },
      "cell_type": "code",
      "source": [
        "##Finding Outliers Cut = 7\n",
        "sns.distplot(msfd['Current_Loans'])"
      ],
      "execution_count": 0,
      "outputs": []
    },
    {
      "metadata": {
        "id": "Yqf_5n8ZXb6e",
        "colab_type": "code",
        "colab": {}
      },
      "cell_type": "code",
      "source": [
        "##Finding Outliers Cut = 500\n",
        "sns.distplot(msfd['Max_Arrears'])"
      ],
      "execution_count": 0,
      "outputs": []
    },
    {
      "metadata": {
        "id": "dWfFddf8X811",
        "colab_type": "code",
        "colab": {}
      },
      "cell_type": "code",
      "source": [
        "##Trimming Variables\n",
        "msfd = msfd.loc[(msfd['Collateral_valuation'] < 30000) \n",
        "                & (msfd['Properties_Total'] < 8) \n",
        "                & (msfd['Amount'] < 50000)                \n",
        "                & (msfd['Historic_Loans'] < 20)\n",
        "                & (msfd['Current_Loans'] < 7) \n",
        "                & (msfd['Max_Arrears'] < 500)]"
      ],
      "execution_count": 0,
      "outputs": []
    },
    {
      "metadata": {
        "id": "1jVTDBZZZ1UA",
        "colab_type": "code",
        "colab": {}
      },
      "cell_type": "code",
      "source": [
        "##Post Trim Box Plot\n",
        "box = msfd.iloc[:,1:-1].boxplot(grid=False, rot=45, fontsize=13)"
      ],
      "execution_count": 0,
      "outputs": []
    },
    {
      "metadata": {
        "id": "Gi3cu_CNzSNT",
        "colab_type": "text"
      },
      "cell_type": "markdown",
      "source": [
        "Categorisation of the Continuous variables where it is belived to be useful:"
      ]
    },
    {
      "metadata": {
        "id": "2wakmuzImlJ6",
        "colab_type": "code",
        "colab": {}
      },
      "cell_type": "code",
      "source": [
        "##Investigating \"Activity\" categorical variable type\n",
        "sns.distplot(msfd['Activity'])"
      ],
      "execution_count": 0,
      "outputs": []
    },
    {
      "metadata": {
        "id": "2fUpZm6PxkR3",
        "colab_type": "code",
        "colab": {}
      },
      "cell_type": "code",
      "source": [
        "##Number of times each value comes up for \"Activity\"\n",
        "msfd['Activity'].value_counts()"
      ],
      "execution_count": 0,
      "outputs": []
    },
    {
      "metadata": {
        "id": "AVjGXCFo85Oz",
        "colab_type": "code",
        "colab": {}
      },
      "cell_type": "code",
      "source": [
        "##Grouping continuous variables to categorisations\n",
        "## Codes 1-5 = A 6-11 = B 12-16 = C 17-19 = D\n",
        "msfd['Activity'] = msfd['Activity'].astype(str)\n",
        "msfd['Activity'] = msfd['Activity'].replace(str(1.0),'A')\n",
        "msfd['Activity'] = msfd['Activity'].replace(str(2.0),'A')\n",
        "msfd['Activity'] = msfd['Activity'].replace(str(3.0),'A')\n",
        "msfd['Activity'] = msfd['Activity'].replace(str(4.0),'A')\n",
        "msfd['Activity'] = msfd['Activity'].replace(str(5.0),'A')\n",
        "msfd['Activity'] = msfd['Activity'].replace(str(6.0),'B')\n",
        "msfd['Activity'] = msfd['Activity'].replace(str(7.0),'B')\n",
        "msfd['Activity'] = msfd['Activity'].replace(str(8.0),'B')\n",
        "msfd['Activity'] = msfd['Activity'].replace(str(9.0),'B')\n",
        "msfd['Activity'] = msfd['Activity'].replace(str(10.0),'B')\n",
        "msfd['Activity'] = msfd['Activity'].replace(str(11.0),'B')\n",
        "msfd['Activity'] = msfd['Activity'].replace(str(12.0),'C')\n",
        "msfd['Activity'] = msfd['Activity'].replace(str(14.0),'C')\n",
        "msfd['Activity'] = msfd['Activity'].replace(str(15.0),'C')\n",
        "msfd['Activity'] = msfd['Activity'].replace(str(16.0),'C')\n",
        "msfd['Activity'] = msfd['Activity'].replace(str(17.0),'D')\n",
        "msfd['Activity'] = msfd['Activity'].replace(str(18.0),'D')\n",
        "msfd['Activity'] = msfd['Activity'].replace(str(19.0),'D')"
      ],
      "execution_count": 0,
      "outputs": []
    },
    {
      "metadata": {
        "id": "gUNBiMj5dbkQ",
        "colab_type": "code",
        "colab": {}
      },
      "cell_type": "code",
      "source": [
        "##Number of times each value comes up for \"Activity\"\n",
        "msfd['Activity'].value_counts()"
      ],
      "execution_count": 0,
      "outputs": []
    },
    {
      "metadata": {
        "id": "SH2mR3m4u_-T",
        "colab_type": "code",
        "colab": {}
      },
      "cell_type": "code",
      "source": [
        "##Testing to see if the changes are applied \n",
        "msfd.head(8)"
      ],
      "execution_count": 0,
      "outputs": []
    },
    {
      "metadata": {
        "id": "wzEWmzKqfqOi",
        "colab_type": "text"
      },
      "cell_type": "markdown",
      "source": [
        "Creating a Training and Test Datasets:"
      ]
    },
    {
      "metadata": {
        "id": "oq4OOrC8gMpu",
        "colab_type": "code",
        "colab": {}
      },
      "cell_type": "code",
      "source": [
        "##Installing scorecardpy\n",
        "!pip install scorecardpy"
      ],
      "execution_count": 0,
      "outputs": []
    },
    {
      "metadata": {
        "id": "nZooYLPnjBin",
        "colab_type": "code",
        "colab": {}
      },
      "cell_type": "code",
      "source": [
        "##Importing scorecardpy as sc\n",
        "import scorecardpy as sc"
      ],
      "execution_count": 0,
      "outputs": []
    },
    {
      "metadata": {
        "id": "DnsSSTXnhVn3",
        "colab_type": "text"
      },
      "cell_type": "markdown",
      "source": [
        "Hotfix for bug in Scorecardpy:"
      ]
    },
    {
      "metadata": {
        "id": "-woAF4eqjoPQ",
        "colab_type": "code",
        "colab": {}
      },
      "cell_type": "code",
      "source": [
        "##Hotfix: Changing \"Guarantor\" to a string\n",
        "msfd['Guarantor'] = msfd['Guarantor'].astype(str)"
      ],
      "execution_count": 0,
      "outputs": []
    },
    {
      "metadata": {
        "id": "r0ac1pqfj_x4",
        "colab_type": "code",
        "colab": {}
      },
      "cell_type": "code",
      "source": [
        "##Hotfix: Changing \"1\" to \"Y\"\n",
        "msfd['Guarantor'] = msfd['Guarantor'].replace(str(1),'Y')"
      ],
      "execution_count": 0,
      "outputs": []
    },
    {
      "metadata": {
        "id": "n89-uW5ZShnY",
        "colab_type": "code",
        "colab": {}
      },
      "cell_type": "code",
      "source": [
        "##Hotfix: Changing \"0\" to \"N\"\n",
        "msfd['Guarantor'] = msfd['Guarantor'].replace(str(0),'N')"
      ],
      "execution_count": 0,
      "outputs": []
    },
    {
      "metadata": {
        "colab_type": "code",
        "id": "hjBKXXCzeewq",
        "colab": {}
      },
      "cell_type": "code",
      "source": [
        "##Hotfix: Changing \"Collateral\" to a string\n",
        "msfd['Collateral'] = msfd['Collateral'].astype(str)"
      ],
      "execution_count": 0,
      "outputs": []
    },
    {
      "metadata": {
        "colab_type": "code",
        "id": "BLE63e7Eeews",
        "colab": {}
      },
      "cell_type": "code",
      "source": [
        "##Hotfix: Changing \"1\" to \"Y\"\n",
        "msfd['Collateral'] = msfd['Collateral'].replace(str(1),'Y')"
      ],
      "execution_count": 0,
      "outputs": []
    },
    {
      "metadata": {
        "colab_type": "code",
        "id": "yMubFtVCeewv",
        "colab": {}
      },
      "cell_type": "code",
      "source": [
        "##Hotfix: Changing \"0\" to \"N\"\n",
        "msfd['Collateral'] = msfd['Collateral'].replace(str(0),'N')"
      ],
      "execution_count": 0,
      "outputs": []
    },
    {
      "metadata": {
        "id": "r1-bA3FsTVXR",
        "colab_type": "code",
        "colab": {}
      },
      "cell_type": "code",
      "source": [
        "##Hotfix: Check to see if the values are adjusted\n",
        "msfd.head(10)"
      ],
      "execution_count": 0,
      "outputs": []
    },
    {
      "metadata": {
        "id": "E1OE_lamff-o",
        "colab_type": "text"
      },
      "cell_type": "markdown",
      "source": [
        "Creating the train & test sets:"
      ]
    },
    {
      "metadata": {
        "id": "xlf1jUAcheXR",
        "colab_type": "code",
        "colab": {}
      },
      "cell_type": "code",
      "source": [
        "## Split in train and test\n",
        "train, test = sc.split_df(msfd.iloc[:,1:],\n",
        "                          y = 'Defaulter',\n",
        "                          ratio = 0.7,\n",
        "                          seed = 28845617).values()##Student ID as Seed"
      ],
      "execution_count": 0,
      "outputs": []
    },
    {
      "metadata": {
        "id": "nzv_toi2dbPb",
        "colab_type": "code",
        "colab": {}
      },
      "cell_type": "code",
      "source": [
        "##The describing the train dataset\n",
        "train.describe()"
      ],
      "execution_count": 0,
      "outputs": []
    },
    {
      "metadata": {
        "id": "_Mmxh2fY1TZ4",
        "colab_type": "text"
      },
      "cell_type": "markdown",
      "source": [
        "Coding the Nominal Variables using Weights of Evidence (WOE):"
      ]
    },
    {
      "metadata": {
        "id": "3jzV8rZCgnDF",
        "colab_type": "code",
        "colab": {}
      },
      "cell_type": "code",
      "source": [
        "##Bin Variables\n",
        "binValues = sc.woebin(train, y = 'Defaulter', min_perc_fine_bin=0.02, \n",
        "                 min_perc_coarse_bin=0.05, stop_limit=0.1, \n",
        "                 max_num_bin=8,method='tree')"
      ],
      "execution_count": 0,
      "outputs": []
    },
    {
      "metadata": {
        "id": "pXfI0eFWjLmQ",
        "colab_type": "code",
        "colab": {}
      },
      "cell_type": "code",
      "source": [
        "##Plotting the Bin Variables\n",
        "sc.woebin_plot(binValues)"
      ],
      "execution_count": 0,
      "outputs": []
    },
    {
      "metadata": {
        "id": "3Wg0v5abjRwm",
        "colab_type": "code",
        "colab": {}
      },
      "cell_type": "code",
      "source": [
        "##Manual Bin changes (Removed after first run)\n",
        "##breaks_adj = sc.woebin_adj(train, \"Defaulter\", binValues)"
      ],
      "execution_count": 0,
      "outputs": []
    },
    {
      "metadata": {
        "id": "qUgpWNrjicFt",
        "colab_type": "code",
        "colab": {}
      },
      "cell_type": "code",
      "source": [
        "##The breaks for woe as found by the Manual Bin\n",
        "breaks_adj = {'Activity': ['C','D%,%A','B'],'Age': [33,41,48],\n",
        "              'Amount':[3000,8000,22000],'Area': [25,40,55,65],\n",
        "              'Collateral':['Y','N'],'Collateral_valuation':[2000,4500,13000],\n",
        "              'Crrent_Loans':[3,4],'Guarantor':['Y','N'],\n",
        "              'Historic_Loans':[2,4,8],'Max_Arrears':[2,24,76],\n",
        "              'Properties_Status':['B','D','A%,%C'],'Properties_Total':[2,3],\n",
        "              'Region': [5,8,10],'Term': [14,27,38]}"
      ],
      "execution_count": 0,
      "outputs": []
    },
    {
      "metadata": {
        "id": "qwLtbMBejhR4",
        "colab_type": "code",
        "colab": {}
      },
      "cell_type": "code",
      "source": [
        "##Applying Bin changes\n",
        "bins_adj = sc.woebin(train, y=\"Defaulter\", breaks_list=breaks_adj) \n",
        "train_woe = sc.woebin_ply(train, bins_adj)\n",
        "test_woe = sc.woebin_ply(test, bins_adj)"
      ],
      "execution_count": 0,
      "outputs": []
    },
    {
      "metadata": {
        "id": "GdCpCXCPjmvX",
        "colab_type": "code",
        "colab": {}
      },
      "cell_type": "code",
      "source": [
        "##Viewing the woe train set\n",
        "train_woe.head()"
      ],
      "execution_count": 0,
      "outputs": []
    },
    {
      "metadata": {
        "id": "meesAzR5kFhn",
        "colab_type": "text"
      },
      "cell_type": "markdown",
      "source": [
        "IV Values Key:\n",
        "- $IV < 0.02$: Remove.\n",
        "- $0.02 \\le IV < 0.1$: Remove.\n",
        "- $0.1 \\le IV < 0.3$: Keep.\n",
        "- $0.3 \\le IV < 1$: Keep.\n",
        "- $1 \\le IV $: Keep/Review. Study if error in calculation (i.e. WoE leaves a category with 100% goods or bads) or if variable is capturing future information."
      ]
    },
    {
      "metadata": {
        "id": "iAMi8tUZj7tp",
        "colab_type": "code",
        "colab": {}
      },
      "cell_type": "code",
      "source": [
        "##Look at the IV values\n",
        "sc.iv(train_woe, 'Defaulter')"
      ],
      "execution_count": 0,
      "outputs": []
    },
    {
      "metadata": {
        "id": "HLp4t1bAfsgi",
        "colab_type": "code",
        "colab": {}
      },
      "cell_type": "code",
      "source": [
        "##listing column order\n",
        "train_woe.columns"
      ],
      "execution_count": 0,
      "outputs": []
    },
    {
      "metadata": {
        "id": "tuu960ELiMpM",
        "colab_type": "code",
        "colab": {}
      },
      "cell_type": "code",
      "source": [
        "##Dropping IVs below 0.1\n",
        "train_woe = train_woe.drop(['Age_woe','Properties_Status_woe','Area_woe',\n",
        "                           'Collateral_woe','Max_Arrears_woe',\n",
        "                           'Current_Loans_woe','Guarantor_woe'],axis = 1)\n",
        "test_woe = test_woe.drop(['Age_woe','Properties_Status_woe','Area_woe',\n",
        "                           'Collateral_woe','Max_Arrears_woe',\n",
        "                           'Current_Loans_woe','Guarantor_woe'],axis = 1)\n",
        "train_woe.head()"
      ],
      "execution_count": 0,
      "outputs": []
    },
    {
      "metadata": {
        "id": "apX9iD-Fi7UG",
        "colab_type": "code",
        "colab": {}
      },
      "cell_type": "code",
      "source": [
        "##Looking at the test woe data\n",
        "test_woe.head()"
      ],
      "execution_count": 0,
      "outputs": []
    },
    {
      "metadata": {
        "id": "L7bXlNHOavkc",
        "colab_type": "text"
      },
      "cell_type": "markdown",
      "source": [
        "Question 1.2:"
      ]
    },
    {
      "metadata": {
        "id": "scO9gCVK13Wo",
        "colab_type": "text"
      },
      "cell_type": "markdown",
      "source": [
        "Logistic Regression:"
      ]
    },
    {
      "metadata": {
        "id": "-ttA6rhiGxip",
        "colab_type": "code",
        "colab": {}
      },
      "cell_type": "code",
      "source": [
        "##Building the Logistic Regression\n",
        "from sklearn.linear_model import LogisticRegression\n",
        "msfd_logreg = LogisticRegression(penalty='l1',##l1 = lasso\n",
        "                                     tol=0.0001,\n",
        "                                     C=1.0,\n",
        "                                     fit_intercept=True,\n",
        "                                     class_weight='balanced',\n",
        "                                     random_state=28845617,##Student ID as seed\n",
        "                                     max_iter=100,\n",
        "                                     verbose=1,\n",
        "                                     solver = 'saga',\n",
        "                                     warm_start=False)"
      ],
      "execution_count": 0,
      "outputs": []
    },
    {
      "metadata": {
        "id": "S6wKMEX-KO4F",
        "colab_type": "code",
        "colab": {}
      },
      "cell_type": "code",
      "source": [
        "##Fitting the Logistic Regression\n",
        "msfd_logreg.fit(X = train_woe.iloc[:,1:], y = train_woe['Defaulter'])"
      ],
      "execution_count": 0,
      "outputs": []
    },
    {
      "metadata": {
        "id": "gn6ChgajLQ4B",
        "colab_type": "code",
        "colab": {}
      },
      "cell_type": "code",
      "source": [
        "##Parameter values\n",
        "coef_msfd = pd.concat([pd.DataFrame({'column': train_woe.columns[1:]}),\n",
        "                       pd.DataFrame(np.transpose(msfd_logreg.coef_))],\n",
        "                      axis = 1)\n",
        "\n",
        "coef_msfd"
      ],
      "execution_count": 0,
      "outputs": []
    },
    {
      "metadata": {
        "id": "qBRDt3BfWSlX",
        "colab_type": "code",
        "colab": {}
      },
      "cell_type": "code",
      "source": [
        "##If the intercept value is close to 0 this would prove this is a balanced \n",
        "##logistic regression that uses WoE transformation that is working as intended\n",
        "msfd_logreg.intercept_"
      ],
      "execution_count": 0,
      "outputs": []
    },
    {
      "metadata": {
        "id": "huVpCOVVWXlP",
        "colab_type": "code",
        "colab": {}
      },
      "cell_type": "code",
      "source": [
        "##Applying to the test data\n",
        "pred_class_test = msfd_logreg.predict(test_woe.iloc[:, 1:])\n",
        "probs_test = msfd_logreg.predict_proba(test_woe.iloc[:, 1:])\n",
        "print(probs_test, pred_class_test)"
      ],
      "execution_count": 0,
      "outputs": []
    },
    {
      "metadata": {
        "id": "KzPxIUnFqH1s",
        "colab_type": "text"
      },
      "cell_type": "markdown",
      "source": [
        "Looking at ROC Curves:"
      ]
    },
    {
      "metadata": {
        "id": "2o7PZyGvWiVb",
        "colab_type": "code",
        "colab": {}
      },
      "cell_type": "code",
      "source": [
        "##Importing the packages for the ROC Curves\n",
        "from sklearn.metrics import roc_auc_score, confusion_matrix"
      ],
      "execution_count": 0,
      "outputs": []
    },
    {
      "metadata": {
        "id": "qQE_w6IcWn5N",
        "colab_type": "code",
        "colab": {}
      },
      "cell_type": "code",
      "source": [
        "##Showing the results of the test set after applying the model\n",
        "confusion_matrix(y_true = test_woe['Defaulter'], y_pred = pred_class_test)"
      ],
      "execution_count": 0,
      "outputs": []
    },
    {
      "metadata": {
        "id": "gzgE2aAuRwHG",
        "colab_type": "code",
        "colab": {}
      },
      "cell_type": "code",
      "source": [
        "##Creating the confusion matrix for Logistic Regression\n",
        "confusion_matrix_rf = confusion_matrix(y_true = test_woe['Defaulter'], \n",
        "                    y_pred = pred_class_test)\n",
        "\n",
        "confusion_matrix_rf = confusion_matrix_rf.astype('float') / confusion_matrix_rf.sum(axis=1)[:, np.newaxis]\n",
        "\n",
        "df_cm = pd.DataFrame(\n",
        "        confusion_matrix_rf, index=['Safe', 'Default'], columns=['Safe', 'Default'],)\n",
        "\n",
        "figsize = (10,7)\n",
        "fontsize=14\n",
        "\n",
        "fig = plt.figure(figsize=figsize)\n",
        "heatmap = sns.heatmap(df_cm, annot=True, fmt='.2f')\n",
        "\n",
        "heatmap.yaxis.set_ticklabels(heatmap.yaxis.get_ticklabels(), rotation=0, \n",
        "                             ha='right', fontsize=fontsize)\n",
        "heatmap.xaxis.set_ticklabels(heatmap.xaxis.get_ticklabels(), rotation=45,\n",
        "                             ha='right', fontsize=fontsize)\n",
        "\n",
        "plt.ylabel('True label')\n",
        "plt.xlabel('Predicted label')\n",
        "\n",
        "plt.show()"
      ],
      "execution_count": 0,
      "outputs": []
    },
    {
      "metadata": {
        "id": "L6m9--pJWrYv",
        "colab_type": "code",
        "colab": {}
      },
      "cell_type": "code",
      "source": [
        "##ROC Score\n",
        "roc_auc_score(y_true = test_woe['Defaulter'], y_score = probs_test[:,1])"
      ],
      "execution_count": 0,
      "outputs": []
    },
    {
      "metadata": {
        "id": "T2KcjjPQWuLf",
        "colab_type": "code",
        "colab": {}
      },
      "cell_type": "code",
      "source": [
        "##Creating a visual ROC curve\n",
        "from sklearn.metrics import roc_curve\n",
        "\n",
        "fpr, tpr, thresholds = roc_curve(test_woe['Defaulter'], probs_test[:,1])\n",
        "\n",
        "auc = np.round(roc_auc_score(y_true = test_woe['Defaulter'], \n",
        "                             y_score = probs_test[:,1]),\n",
        "              decimals = 3)\n",
        "\n",
        "plt.plot(fpr,tpr,label=\"MSFD, auc=\"+str(auc))\n",
        "plt.legend(loc=4)\n",
        "plt.show()"
      ],
      "execution_count": 0,
      "outputs": []
    },
    {
      "metadata": {
        "id": "1GtvuOdoXIG9",
        "colab_type": "text"
      },
      "cell_type": "markdown",
      "source": [
        "Scorecard:"
      ]
    },
    {
      "metadata": {
        "id": "NquwKd7TXWpA",
        "colab_type": "code",
        "colab": {}
      },
      "cell_type": "code",
      "source": [
        "##Creting a Scorecard with base points = 100 base odds = 0.01 and pdo = 10\n",
        "msfd_sc = sc.scorecard(bins_adj, msfd_logreg,train_woe.columns[1:],\n",
        "                       points0=1000,odds0=0.01,pdo=100) "
      ],
      "execution_count": 0,
      "outputs": []
    },
    {
      "metadata": {
        "id": "XlX-_OlaXrKF",
        "colab_type": "code",
        "colab": {}
      },
      "cell_type": "code",
      "source": [
        "##Scorecard\n",
        "msfd_sc"
      ],
      "execution_count": 0,
      "outputs": []
    },
    {
      "metadata": {
        "id": "wSwtCXuDXr_V",
        "colab_type": "code",
        "colab": {}
      },
      "cell_type": "code",
      "source": [
        "##Applying the credit score over the original data\n",
        "train_score = sc.scorecard_ply(train, msfd_sc, \n",
        "                               print_step=0)\n",
        "test_score = sc.scorecard_ply(test, msfd_sc, \n",
        "                               print_step=0)"
      ],
      "execution_count": 0,
      "outputs": []
    },
    {
      "metadata": {
        "id": "8lgCYaR1XwNS",
        "colab_type": "code",
        "colab": {}
      },
      "cell_type": "code",
      "source": [
        "##Describing the train score\n",
        "train_score.describe()"
      ],
      "execution_count": 0,
      "outputs": []
    },
    {
      "metadata": {
        "id": "8yWCBntSXzu0",
        "colab_type": "text"
      },
      "cell_type": "markdown",
      "source": [
        "Random Forests:"
      ]
    },
    {
      "metadata": {
        "id": "eSwwlIXiYB-X",
        "colab_type": "code",
        "colab": {}
      },
      "cell_type": "code",
      "source": [
        "##Creating the Random Forest Model\n",
        "from sklearn.ensemble import RandomForestClassifier\n",
        "msfd_rf = RandomForestClassifier(n_estimators=1000,\n",
        "                       criterion='gini',\n",
        "                       max_depth=None,\n",
        "                       min_samples_split=2,\n",
        "                       min_samples_leaf=0.001,\n",
        "                       min_weight_fraction_leaf=0.0,\n",
        "                       max_features='auto',\n",
        "                       max_leaf_nodes=None,\n",
        "                       min_impurity_decrease=0.0001,\n",
        "                       bootstrap=True,\n",
        "                       oob_score=True,\n",
        "                       n_jobs=-1,\n",
        "                       random_state=28845617, #Student ID as Seed\n",
        "                       verbose=1,\n",
        "                       warm_start=False,\n",
        "                       class_weight='balanced')"
      ],
      "execution_count": 0,
      "outputs": []
    },
    {
      "metadata": {
        "id": "9wy0lS4iYGLr",
        "colab_type": "code",
        "colab": {}
      },
      "cell_type": "code",
      "source": [
        "##Describing the training data\n",
        "train.describe()"
      ],
      "execution_count": 0,
      "outputs": []
    },
    {
      "metadata": {
        "id": "jb5_jdo0LmY9",
        "colab_type": "code",
        "colab": {}
      },
      "cell_type": "code",
      "source": [
        "##Creating a Dummy variable for \"Activity\"\n",
        "pd.crosstab(train['Activity'],train['Defaulter'])"
      ],
      "execution_count": 0,
      "outputs": []
    },
    {
      "metadata": {
        "id": "8lHFPqM7L6d9",
        "colab_type": "code",
        "colab": {}
      },
      "cell_type": "code",
      "source": [
        "##Creating a Dummy variable for \"Activity\"\n",
        "train.groupby('Activity', as_index=False).agg({'Defaulter': [\"mean\"]})"
      ],
      "execution_count": 0,
      "outputs": []
    },
    {
      "metadata": {
        "id": "ZUZNVB0BMTtE",
        "colab_type": "code",
        "colab": {}
      },
      "cell_type": "code",
      "source": [
        "##Creating a Dummy variable for \"Activity\"\n",
        "train = pd.get_dummies(train)\n",
        "train.describe()"
      ],
      "execution_count": 0,
      "outputs": []
    },
    {
      "metadata": {
        "id": "dq9k6mbBYTnV",
        "colab_type": "code",
        "colab": {}
      },
      "cell_type": "code",
      "source": [
        "##Fitting the model to train set\n",
        "msfd_rf.fit(train.iloc[:,:-1], train['Defaulter'])"
      ],
      "execution_count": 0,
      "outputs": []
    },
    {
      "metadata": {
        "id": "Axui1tA1Yc8a",
        "colab_type": "code",
        "colab": {}
      },
      "cell_type": "code",
      "source": [
        "# Apply the model to the test set.\n",
        "rf_pred_class_test = msfd_rf.predict(train.iloc[:, :-1])\n",
        "rf_probs_test = msfd_rf.predict_proba(train.iloc[:, :-1])"
      ],
      "execution_count": 0,
      "outputs": []
    },
    {
      "metadata": {
        "id": "tQLcwAwmYtn5",
        "colab_type": "code",
        "colab": {}
      },
      "cell_type": "code",
      "source": [
        "##Creating the confusion matrix for Random Forest\n",
        "confusion_matrix_rf = confusion_matrix(y_true = train['Defaulter'], \n",
        "                    y_pred = rf_pred_class_test)\n",
        "\n",
        "confusion_matrix_rf = confusion_matrix_rf.astype('float') / confusion_matrix_rf.sum(axis=1)[:, np.newaxis]\n",
        "\n",
        "df_cm = pd.DataFrame(\n",
        "        confusion_matrix_rf, index=['good', 'bad'], columns=['good', 'bad'],)\n",
        "\n",
        "figsize = (10,7)\n",
        "fontsize=14\n",
        "\n",
        "fig = plt.figure(figsize=figsize)\n",
        "heatmap = sns.heatmap(df_cm, annot=True, fmt='.2f')\n",
        "\n",
        "heatmap.yaxis.set_ticklabels(heatmap.yaxis.get_ticklabels(), rotation=0, \n",
        "                             ha='right', fontsize=fontsize)\n",
        "heatmap.xaxis.set_ticklabels(heatmap.xaxis.get_ticklabels(), rotation=45,\n",
        "                             ha='right', fontsize=fontsize)\n",
        "\n",
        "plt.ylabel('True label')\n",
        "plt.xlabel('Predicted label')\n",
        "\n",
        "plt.show()"
      ],
      "execution_count": 0,
      "outputs": []
    },
    {
      "metadata": {
        "id": "cgt7LnJUY6A5",
        "colab_type": "code",
        "colab": {}
      },
      "cell_type": "code",
      "source": [
        "##Creating the ROC curve\n",
        "fpr, tpr, thresholds = roc_curve(train['Defaulter'], rf_probs_test[:,1])\n",
        "\n",
        "auc = np.round(roc_auc_score(y_true = train['Defaulter'], \n",
        "                             y_score = rf_probs_test[:,1]),\n",
        "              decimals = 3)\n",
        "\n",
        "plt.plot(fpr,tpr,label=\"msfd RF, auc=\"+str(auc))\n",
        "plt.legend(loc=4)\n",
        "plt.show()"
      ],
      "execution_count": 0,
      "outputs": []
    },
    {
      "metadata": {
        "id": "nL5jZFslZA9W",
        "colab_type": "code",
        "colab": {}
      },
      "cell_type": "code",
      "source": [
        "##The Importance of each variable\n",
        "for name, importance in zip(train.columns[:-1], msfd_rf.feature_importances_):\n",
        "  print(name, \"= %.2f\" % importance)"
      ],
      "execution_count": 0,
      "outputs": []
    },
    {
      "metadata": {
        "id": "ut8sMOFJc1Z2",
        "colab_type": "text"
      },
      "cell_type": "markdown",
      "source": [
        "Random Forest WoE:"
      ]
    },
    {
      "metadata": {
        "colab_type": "code",
        "id": "TuPvqf9hcz17",
        "colab": {}
      },
      "cell_type": "code",
      "source": [
        "##Creating the Random Forest Model\n",
        "from sklearn.ensemble import RandomForestClassifier\n",
        "msfd_rf_woe = RandomForestClassifier(n_estimators=1000,\n",
        "                       criterion='gini',\n",
        "                       max_depth=None,\n",
        "                       min_samples_split=2,\n",
        "                       min_samples_leaf=0.001,\n",
        "                       min_weight_fraction_leaf=0.0,\n",
        "                       max_features='auto',\n",
        "                       max_leaf_nodes=None,\n",
        "                       min_impurity_decrease=0.0001,\n",
        "                       bootstrap=True,\n",
        "                       oob_score=True,\n",
        "                       n_jobs=-1,\n",
        "                       random_state=28845617, #Student ID as Seed\n",
        "                       verbose=1,\n",
        "                       warm_start=False,\n",
        "                       class_weight='balanced')"
      ],
      "execution_count": 0,
      "outputs": []
    },
    {
      "metadata": {
        "colab_type": "code",
        "id": "b--48ae8cz1-",
        "colab": {}
      },
      "cell_type": "code",
      "source": [
        "##Describing the training data\n",
        "train_woe.describe()"
      ],
      "execution_count": 0,
      "outputs": []
    },
    {
      "metadata": {
        "colab_type": "code",
        "id": "W_eywevVcz2G",
        "colab": {}
      },
      "cell_type": "code",
      "source": [
        "##Fitting the model to train set\n",
        "msfd_rf_woe.fit(train_woe.iloc[:,:-1], train_woe['Defaulter'])"
      ],
      "execution_count": 0,
      "outputs": []
    },
    {
      "metadata": {
        "colab_type": "code",
        "id": "BvJow9Iocz2J",
        "colab": {}
      },
      "cell_type": "code",
      "source": [
        "# Apply the model to the test set.\n",
        "rf_pred_class_test_woe = msfd_rf_woe.predict(train_woe.iloc[:, :-1])\n",
        "rf_probs_test_woe = msfd_rf_woe.predict_proba(train_woe.iloc[:, :-1])"
      ],
      "execution_count": 0,
      "outputs": []
    },
    {
      "metadata": {
        "colab_type": "code",
        "id": "yT5sFW7Lcz2L",
        "colab": {}
      },
      "cell_type": "code",
      "source": [
        "##Creating the confusion matrix for Random Forest\n",
        "confusion_matrix_rf_woe = confusion_matrix(y_true = train_woe['Defaulter'], \n",
        "                    y_pred = rf_pred_class_test_woe)\n",
        "\n",
        "confusion_matrix_rf_woe = confusion_matrix_rf_woe.astype('float') / confusion_matrix_rf_woe.sum(axis=1)[:, np.newaxis]\n",
        "\n",
        "df_cm = pd.DataFrame(\n",
        "        confusion_matrix_rf, index=['good', 'bad'], columns=['good', 'bad'],)\n",
        "\n",
        "figsize = (10,7)\n",
        "fontsize=14\n",
        "\n",
        "fig = plt.figure(figsize=figsize)\n",
        "heatmap = sns.heatmap(df_cm, annot=True, fmt='.2f')\n",
        "\n",
        "heatmap.yaxis.set_ticklabels(heatmap.yaxis.get_ticklabels(), rotation=0, \n",
        "                             ha='right', fontsize=fontsize)\n",
        "heatmap.xaxis.set_ticklabels(heatmap.xaxis.get_ticklabels(), rotation=45,\n",
        "                             ha='right', fontsize=fontsize)\n",
        "\n",
        "plt.ylabel('True label')\n",
        "plt.xlabel('Predicted label')\n",
        "\n",
        "plt.show()"
      ],
      "execution_count": 0,
      "outputs": []
    },
    {
      "metadata": {
        "colab_type": "code",
        "id": "-VAbRqJtcz2O",
        "colab": {}
      },
      "cell_type": "code",
      "source": [
        "##Creating the ROC curve\n",
        "fpr, tpr, thresholds = roc_curve(train_woe['Defaulter'], rf_probs_test_woe[:,1])\n",
        "\n",
        "auc = np.round(roc_auc_score(y_true = train_woe['Defaulter'], \n",
        "                             y_score = rf_probs_test_woe[:,1]),\n",
        "              decimals = 3)\n",
        "\n",
        "plt.plot(fpr,tpr,label=\"msfd RF, auc=\"+str(auc))\n",
        "plt.legend(loc=4)\n",
        "plt.show()"
      ],
      "execution_count": 0,
      "outputs": []
    },
    {
      "metadata": {
        "colab_type": "code",
        "id": "ZE5YENnacz2Q",
        "colab": {}
      },
      "cell_type": "code",
      "source": [
        "##The Importance of each variable\n",
        "for name, importance in zip(train.columns[:-1], msfd_rf_woe.feature_importances_):\n",
        "  print(name, \"= %.2f\" % importance)"
      ],
      "execution_count": 0,
      "outputs": []
    },
    {
      "metadata": {
        "id": "WhxiPd08a2ST",
        "colab_type": "text"
      },
      "cell_type": "markdown",
      "source": [
        "Question 2:"
      ]
    },
    {
      "metadata": {
        "id": "sd9socBV2TPh",
        "colab_type": "code",
        "colab": {}
      },
      "cell_type": "code",
      "source": [
        "import scipy.stats as stats\n",
        "from scipy.optimize import fsolve"
      ],
      "execution_count": 0,
      "outputs": []
    },
    {
      "metadata": {
        "id": "XoNPT3Q9B1zF",
        "colab_type": "code",
        "colab": {}
      },
      "cell_type": "code",
      "source": [
        "##Calculating Average Default Rate\n",
        "ONofD / OTofA"
      ],
      "execution_count": 0,
      "outputs": []
    },
    {
      "metadata": {
        "id": "RDtVqEh6fak9",
        "colab_type": "code",
        "colab": {}
      },
      "cell_type": "code",
      "source": [
        "##Offer 1:Grant the loan and charge a fixed interest of £50 Mean Value\n",
        "MV1 = 5000*(1-0.16438)\n",
        "print(MV1)"
      ],
      "execution_count": 0,
      "outputs": []
    },
    {
      "metadata": {
        "id": "Kb20qsbzhqMV",
        "colab_type": "code",
        "colab": {}
      },
      "cell_type": "code",
      "source": [
        "##Offer 1:Grant the loan and charge a fixed interest of £50 Variance Value\n",
        "VV1 = (5000*0.16438*(1-0.16438))\n",
        "print(VV1)"
      ],
      "execution_count": 0,
      "outputs": []
    },
    {
      "metadata": {
        "id": "_JiNzht9gOIT",
        "colab_type": "code",
        "colab": {}
      },
      "cell_type": "code",
      "source": [
        "##Offer 2:Grant the loan and charge a fixed interest of £200.\n",
        "##This multiplies default rate by a factor of three. Mean Value \n",
        "MV2 = 5000 * (1-0.16438*3)\n",
        "print(MV2)"
      ],
      "execution_count": 0,
      "outputs": []
    },
    {
      "metadata": {
        "id": "BkBB5nQ8hmKm",
        "colab_type": "code",
        "colab": {}
      },
      "cell_type": "code",
      "source": [
        "##Offer 2: Grant the loan and charge a fixed interest of £200. \n",
        "##This multiplies default rate by a factor of three. Variance Value\n",
        "VV2 = (5000*0.16438*3*(1-0.16438*3))\n",
        "print(VV2)"
      ],
      "execution_count": 0,
      "outputs": []
    },
    {
      "metadata": {
        "id": "sdaf66PWgOru",
        "colab_type": "code",
        "colab": {}
      },
      "cell_type": "code",
      "source": [
        "##Offer 3: Grant the loan and charge a fixed interest of £500.\n",
        "##This multiplies default rate by a factor of five. Mean Value\n",
        "MV3 = 5000*(1-0.16438*5)\n",
        "print(MV3)"
      ],
      "execution_count": 0,
      "outputs": []
    },
    {
      "metadata": {
        "id": "PO2zGqn5g_U1",
        "colab_type": "code",
        "colab": {}
      },
      "cell_type": "code",
      "source": [
        "##Offer 3: Grant the loan and charge a fixed interest of £500. \n",
        "##This multiplies default rate by a factor of five. Variance Value\n",
        "VV3 = (5000*0.16438*5*(1-0.16438*5))\n",
        "print(VV3)"
      ],
      "execution_count": 0,
      "outputs": []
    },
    {
      "metadata": {
        "id": "ucOQMjCSj77v",
        "colab_type": "code",
        "colab": {}
      },
      "cell_type": "code",
      "source": [
        "P = [500,200,50]\n",
        "MV = [MV3, MV2, MV1]\n",
        "VV = [VV3, VV2, VV1]"
      ],
      "execution_count": 0,
      "outputs": []
    },
    {
      "metadata": {
        "id": "EW0qBalOAy0f",
        "colab_type": "code",
        "colab": {}
      },
      "cell_type": "code",
      "source": [
        "Pavg = np.average(P[1:2], weights=MV[1:2])\n",
        "Pavg"
      ],
      "execution_count": 0,
      "outputs": []
    },
    {
      "metadata": {
        "id": "J4SD4szJjvtD",
        "colab_type": "code",
        "colab": {}
      },
      "cell_type": "code",
      "source": [
        "MVavg = np.sum(MV[0:2])\n",
        "VVavg = np.sum(VV[0:2])\n",
        "print('MVavg = ', MVavg)\n",
        "print('VVavg = ', VVavg)"
      ],
      "execution_count": 0,
      "outputs": []
    },
    {
      "metadata": {
        "id": "dgtBeyx5lUfb",
        "colab_type": "text"
      },
      "cell_type": "markdown",
      "source": [
        "EMSR-A"
      ]
    },
    {
      "metadata": {
        "id": "LJeulXmQMWsW",
        "colab_type": "code",
        "colab": {}
      },
      "cell_type": "code",
      "source": [
        "fpnormal = stats.norm(loc = MV[0], scale = np.sqrt(VV[0]))\n",
        "def flittle(y, p1 = P[0], p2 = P[1]):\n",
        "  out = 1-fpnormal.cdf(y) - p2/p1\n",
        "  return(out)\n",
        "\n",
        "fsolve(flittle,900)"
      ],
      "execution_count": 0,
      "outputs": []
    },
    {
      "metadata": {
        "id": "3O0MCIv6NCpM",
        "colab_type": "code",
        "colab": {}
      },
      "cell_type": "code",
      "source": [
        "fpnormal2 = stats.norm(loc = MV[1], scale = np.sqrt(VV[1]))\n",
        "def flittle(y, p1 = P[1], p2 = P[2]):\n",
        "  out = 1-fpnormal2.cdf(y) - p2/p1\n",
        "  return(out)\n",
        "\n",
        "fsolve(flittle,2800)"
      ],
      "execution_count": 0,
      "outputs": []
    },
    {
      "metadata": {
        "id": "aNDNVuH_OiWW",
        "colab_type": "text"
      },
      "cell_type": "markdown",
      "source": [
        "Number of Loans: Offer 3 = 897,  Offer 2 = 1661, Offer 1 = 1942"
      ]
    },
    {
      "metadata": {
        "id": "IJdy6h7Sk6Ep",
        "colab_type": "text"
      },
      "cell_type": "markdown",
      "source": [
        "EMSR-B"
      ]
    },
    {
      "metadata": {
        "id": "w8FhiAtBr1u9",
        "colab_type": "code",
        "colab": {}
      },
      "cell_type": "code",
      "source": [
        "normal = stats.norm(loc = MV[0], scale = np.sqrt(VV[0]))\n",
        "def flittle(y, p1 = P[0], p2 = P[1]):\n",
        "    out = 1- normal.cdf(y) - p2/p1\n",
        "    return(out)\n",
        "\n",
        "fsolve(flittle,900)"
      ],
      "execution_count": 0,
      "outputs": []
    },
    {
      "metadata": {
        "id": "EjBEPV4zBJ8L",
        "colab_type": "code",
        "colab": {}
      },
      "cell_type": "code",
      "source": [
        "normal = stats.norm(loc = MVavg, scale = np.sqrt(VVavg))\n",
        "def flittle(y, p1 = Pavg, p2 = P[2]):\n",
        "    out = 1 - normal.cdf(y) - p2/p1\n",
        "    return(out)\n",
        "\n",
        "fsolve(flittle, 3700)"
      ],
      "execution_count": 0,
      "outputs": []
    },
    {
      "metadata": {
        "id": "CbAWH7KoPcW1",
        "colab_type": "text"
      },
      "cell_type": "markdown",
      "source": [
        "Number of Loans: Offer 3 = 897,  Offer 2 = 2557, Offer 1 = 1046"
      ]
    }
  ]
}